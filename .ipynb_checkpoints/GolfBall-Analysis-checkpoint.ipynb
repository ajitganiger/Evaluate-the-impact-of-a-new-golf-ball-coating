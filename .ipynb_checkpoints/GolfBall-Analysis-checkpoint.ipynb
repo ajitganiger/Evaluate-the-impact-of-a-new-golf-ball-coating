{
 "cells": [
  {
   "cell_type": "markdown",
   "metadata": {},
   "source": [
    "## Data Description\n",
    "Par Inc., is a major manufacturer of golf equipment. Management believes that Par’s market share could be increased  with the introduction of a cut -resistant, longer resistant, longer -lasting golf ball. \n",
    "1. Formulate and present the rationale for a hypothesis test that par could use to compare driving distances of the current and new golf balls. \n",
    "2. Analyse the data to provide hypothesis testing conclusion. What is p Analyse of your test? What is recommendation for Par Inc.? \n",
    "3. Provide descriptive statistical summaries of the data for each model."
   ]
  },
  {
   "cell_type": "markdown",
   "metadata": {},
   "source": [
    "## Setps to follow\n",
    "• Import pandas, numpy , ttest_ind , levene , shapiro , iqr , matplotlib.pyplot\n",
    "• Get the data\n",
    "• Check for the Descriptive Statistics.\n",
    "• Check if shapiro and levene tests work fine for the data. \n",
    "• Calculate Pooled Standard Deviation\n",
    "• Calculate Sample power"
   ]
  },
  {
   "cell_type": "markdown",
   "metadata": {},
   "source": [
    "## Import Libraries"
   ]
  },
  {
   "cell_type": "code",
   "execution_count": 32,
   "metadata": {},
   "outputs": [],
   "source": [
    "import numpy as np\n",
    "import pandas as pd\n",
    "import matplotlib.pyplot as plt\n",
    "import scipy.stats as stats\n",
    "\n",
    "from scipy.stats import ttest_ind\n",
    "from scipy.stats import levene\n",
    "from scipy.stats import shapiro\n",
    "from scipy.stats import iqr"
   ]
  },
  {
   "cell_type": "markdown",
   "metadata": {},
   "source": [
    "## Read the Data"
   ]
  },
  {
   "cell_type": "code",
   "execution_count": 2,
   "metadata": {},
   "outputs": [],
   "source": [
    "# read the data\n",
    "data = pd.read_excel(\"SM4-Golf.xls\")"
   ]
  },
  {
   "cell_type": "code",
   "execution_count": 3,
   "metadata": {},
   "outputs": [
    {
     "data": {
      "text/html": [
       "<div>\n",
       "<style scoped>\n",
       "    .dataframe tbody tr th:only-of-type {\n",
       "        vertical-align: middle;\n",
       "    }\n",
       "\n",
       "    .dataframe tbody tr th {\n",
       "        vertical-align: top;\n",
       "    }\n",
       "\n",
       "    .dataframe thead th {\n",
       "        text-align: right;\n",
       "    }\n",
       "</style>\n",
       "<table border=\"1\" class=\"dataframe\">\n",
       "  <thead>\n",
       "    <tr style=\"text-align: right;\">\n",
       "      <th></th>\n",
       "      <th>Current</th>\n",
       "      <th>New</th>\n",
       "    </tr>\n",
       "  </thead>\n",
       "  <tbody>\n",
       "    <tr>\n",
       "      <th>0</th>\n",
       "      <td>264</td>\n",
       "      <td>277</td>\n",
       "    </tr>\n",
       "    <tr>\n",
       "      <th>1</th>\n",
       "      <td>261</td>\n",
       "      <td>269</td>\n",
       "    </tr>\n",
       "    <tr>\n",
       "      <th>2</th>\n",
       "      <td>267</td>\n",
       "      <td>263</td>\n",
       "    </tr>\n",
       "    <tr>\n",
       "      <th>3</th>\n",
       "      <td>272</td>\n",
       "      <td>266</td>\n",
       "    </tr>\n",
       "    <tr>\n",
       "      <th>4</th>\n",
       "      <td>258</td>\n",
       "      <td>262</td>\n",
       "    </tr>\n",
       "  </tbody>\n",
       "</table>\n",
       "</div>"
      ],
      "text/plain": [
       "   Current  New\n",
       "0      264  277\n",
       "1      261  269\n",
       "2      267  263\n",
       "3      272  266\n",
       "4      258  262"
      ]
     },
     "execution_count": 3,
     "metadata": {},
     "output_type": "execute_result"
    }
   ],
   "source": [
    "data.head()"
   ]
  },
  {
   "cell_type": "markdown",
   "metadata": {},
   "source": [
    "## Some Descriptive Statistics"
   ]
  },
  {
   "cell_type": "code",
   "execution_count": 14,
   "metadata": {},
   "outputs": [
    {
     "name": "stdout",
     "output_type": "stream",
     "text": [
      "<class 'pandas.core.frame.DataFrame'>\n",
      "RangeIndex: 40 entries, 0 to 39\n",
      "Data columns (total 2 columns):\n",
      "Current    40 non-null int64\n",
      "New        40 non-null int64\n",
      "dtypes: int64(2)\n",
      "memory usage: 720.0 bytes\n"
     ]
    }
   ],
   "source": [
    "data.info()\n",
    "#From the output we can see that there are 40 non null data"
   ]
  },
  {
   "cell_type": "code",
   "execution_count": 30,
   "metadata": {},
   "outputs": [
    {
     "data": {
      "text/html": [
       "<div>\n",
       "<style scoped>\n",
       "    .dataframe tbody tr th:only-of-type {\n",
       "        vertical-align: middle;\n",
       "    }\n",
       "\n",
       "    .dataframe tbody tr th {\n",
       "        vertical-align: top;\n",
       "    }\n",
       "\n",
       "    .dataframe thead th {\n",
       "        text-align: right;\n",
       "    }\n",
       "</style>\n",
       "<table border=\"1\" class=\"dataframe\">\n",
       "  <thead>\n",
       "    <tr style=\"text-align: right;\">\n",
       "      <th></th>\n",
       "      <th>Current</th>\n",
       "      <th>New</th>\n",
       "    </tr>\n",
       "  </thead>\n",
       "  <tbody>\n",
       "    <tr>\n",
       "      <th>count</th>\n",
       "      <td>40.000000</td>\n",
       "      <td>40.000000</td>\n",
       "    </tr>\n",
       "    <tr>\n",
       "      <th>mean</th>\n",
       "      <td>270.275000</td>\n",
       "      <td>267.500000</td>\n",
       "    </tr>\n",
       "    <tr>\n",
       "      <th>std</th>\n",
       "      <td>8.752985</td>\n",
       "      <td>9.896904</td>\n",
       "    </tr>\n",
       "    <tr>\n",
       "      <th>min</th>\n",
       "      <td>255.000000</td>\n",
       "      <td>250.000000</td>\n",
       "    </tr>\n",
       "    <tr>\n",
       "      <th>25%</th>\n",
       "      <td>263.000000</td>\n",
       "      <td>262.000000</td>\n",
       "    </tr>\n",
       "    <tr>\n",
       "      <th>50%</th>\n",
       "      <td>270.000000</td>\n",
       "      <td>265.000000</td>\n",
       "    </tr>\n",
       "    <tr>\n",
       "      <th>75%</th>\n",
       "      <td>275.250000</td>\n",
       "      <td>274.500000</td>\n",
       "    </tr>\n",
       "    <tr>\n",
       "      <th>max</th>\n",
       "      <td>289.000000</td>\n",
       "      <td>289.000000</td>\n",
       "    </tr>\n",
       "  </tbody>\n",
       "</table>\n",
       "</div>"
      ],
      "text/plain": [
       "          Current         New\n",
       "count   40.000000   40.000000\n",
       "mean   270.275000  267.500000\n",
       "std      8.752985    9.896904\n",
       "min    255.000000  250.000000\n",
       "25%    263.000000  262.000000\n",
       "50%    270.000000  265.000000\n",
       "75%    275.250000  274.500000\n",
       "max    289.000000  289.000000"
      ]
     },
     "execution_count": 30,
     "metadata": {},
     "output_type": "execute_result"
    }
   ],
   "source": [
    "# Lets check how data looks, Descriptive statistics, count mean std\n",
    "data.describe()"
   ]
  },
  {
   "cell_type": "markdown",
   "metadata": {},
   "source": [
    "## Check Distributions and Five-Number Summary"
   ]
  },
  {
   "cell_type": "code",
   "execution_count": 16,
   "metadata": {},
   "outputs": [
    {
     "data": {
      "text/plain": [
       "<matplotlib.axes._subplots.AxesSubplot at 0x228ffd24eb8>"
      ]
     },
     "execution_count": 16,
     "metadata": {},
     "output_type": "execute_result"
    },
    {
     "data": {
      "image/png": "[encoded data removed]",
      "text/plain": [
       "<matplotlib.figure.Figure at 0x228801c5be0>"
      ]
     },
     "metadata": {},
     "output_type": "display_data"
    }
   ],
   "source": [
    "# Lets plot boxplot to check Five-Number Summary, & to identify if there are any outliers\n",
    "data.boxplot(grid=False)"
   ]
  },
  {
   "cell_type": "code",
   "execution_count": 25,
   "metadata": {},
   "outputs": [
    {
     "data": {
      "text/plain": [
       "<matplotlib.axes._subplots.AxesSubplot at 0x228809c8f28>"
      ]
     },
     "execution_count": 25,
     "metadata": {},
     "output_type": "execute_result"
    },
    {
     "data": {
      "image/png": "[encoded data removed]",
      "text/plain": [
       "<matplotlib.figure.Figure at 0x22880987438>"
      ]
     },
     "metadata": {},
     "output_type": "display_data"
    }
   ],
   "source": [
    "data.plot(kind='hist')"
   ]
  },
  {
   "cell_type": "code",
   "execution_count": 48,
   "metadata": {},
   "outputs": [
    {
     "data": {
      "image/png": "[encoded data removed]",
      "text/plain": [
       "<matplotlib.figure.Figure at 0x22881cbfdd8>"
      ]
     },
     "metadata": {},
     "output_type": "display_data"
    }
   ],
   "source": [
    "plt.hist(data['Current']);"
   ]
  },
  {
   "cell_type": "code",
   "execution_count": 58,
   "metadata": {},
   "outputs": [
    {
     "data": {
      "image/png": "[encoded data removed]",
      "text/plain": [
       "<matplotlib.figure.Figure at 0x22882080c88>"
      ]
     },
     "metadata": {},
     "output_type": "display_data"
    }
   ],
   "source": [
    "plt.hist(data['New'],color='orange');"
   ]
  },
  {
   "cell_type": "code",
   "execution_count": 26,
   "metadata": {},
   "outputs": [
    {
     "data": {
      "text/plain": [
       "<matplotlib.axes._subplots.AxesSubplot at 0x228809b8cf8>"
      ]
     },
     "execution_count": 26,
     "metadata": {},
     "output_type": "execute_result"
    },
    {
     "data": {
      "image/png": "[encoded data removed]",
      "text/plain": [
       "<matplotlib.figure.Figure at 0x228fea92a58>"
      ]
     },
     "metadata": {},
     "output_type": "display_data"
    }
   ],
   "source": [
    "data.plot(kind='kde')\n",
    "#formt he plot we can see that sample data is distributed normally, though there is slight skewness"
   ]
  },
  {
   "cell_type": "markdown",
   "metadata": {},
   "source": [
    "## Check if shapiro and levene tests work fine for the data"
   ]
  },
  {
   "cell_type": "markdown",
   "metadata": {},
   "source": [
    "##### We need to check Normality and Variance\n",
    "- Shapiro -> is used to test the Normality, it tests/checks if the sample data is distributed normally or drawn from normal distribution population data. Normality criterion holds true when p > a ( where a is set to 0.05)\n",
    "- levene ->  is used to test the Variance, it tests/check if the sampel data comes from population with same variance. Variance criterion holds true when p > a ( where a is set to 0.05) "
   ]
  },
  {
   "cell_type": "code",
   "execution_count": 35,
   "metadata": {},
   "outputs": [
    {
     "name": "stdout",
     "output_type": "stream",
     "text": [
      "0.9707046747207642 0.378787100315094\n"
     ]
    }
   ],
   "source": [
    "# Shapiro Normality test for Current golf-Ball\n",
    "# returns w ,p\n",
    "w,p = shapiro(data['Current'])\n",
    "print(w,p)"
   ]
  },
  {
   "cell_type": "code",
   "execution_count": 36,
   "metadata": {},
   "outputs": [
    {
     "name": "stdout",
     "output_type": "stream",
     "text": [
      "Normality criterion holds true for 'Current' sample data\n"
     ]
    }
   ],
   "source": [
    "# Assuming a as 0.05 (standard)\n",
    "if(p>0.05):\n",
    "    print(\"Normality criterion holds true for 'Current' sample data\")\n",
    "else:\n",
    "    print(\"Normality criterion  is false for 'Current' sample data\")\n"
   ]
  },
  {
   "cell_type": "code",
   "execution_count": 37,
   "metadata": {},
   "outputs": [
    {
     "name": "stdout",
     "output_type": "stream",
     "text": [
      "0.9678263664245605 0.3064655363559723\n"
     ]
    }
   ],
   "source": [
    "# Shapiro Normality test for New golf-Ball\n",
    "# returns w ,p\n",
    "w1,p1 = shapiro(data['New'])\n",
    "print(w1,p1)"
   ]
  },
  {
   "cell_type": "code",
   "execution_count": 38,
   "metadata": {},
   "outputs": [
    {
     "name": "stdout",
     "output_type": "stream",
     "text": [
      "Normality criterion holds true for 'New' sample data\n"
     ]
    }
   ],
   "source": [
    "# Assuming a as 0.05 (standard)\n",
    "if(p1>0.05):\n",
    "    print(\"Normality criterion holds true for 'New' sample data\")\n",
    "else:\n",
    "    print(\"Normality criterion  is false for 'New' sample data\")\n"
   ]
  },
  {
   "cell_type": "code",
   "execution_count": 40,
   "metadata": {},
   "outputs": [
    {
     "name": "stdout",
     "output_type": "stream",
     "text": [
      "0.2553238291765741 0.6147759523331309\n"
     ]
    }
   ],
   "source": [
    "## now Lets apply levene tests to check the Variance\n",
    "# returns w ,p\n",
    "w,p = levene(data['Current'],data['New'])\n",
    "print(w,p)"
   ]
  },
  {
   "cell_type": "code",
   "execution_count": 41,
   "metadata": {},
   "outputs": [
    {
     "name": "stdout",
     "output_type": "stream",
     "text": [
      "Variance criterion holds true for sample data\n"
     ]
    }
   ],
   "source": [
    "# Assuming a as 0.05 (standard)\n",
    "if(p>0.05):\n",
    "    print(\"Variance criterion holds true for sample data\")\n",
    "else:\n",
    "    print(\"Variance criterion holds fase for sample data\")\n"
   ]
  },
  {
   "cell_type": "markdown",
   "metadata": {},
   "source": [
    "## Calculate Pooled Standard Deviation"
   ]
  },
  {
   "cell_type": "markdown",
   "metadata": {},
   "source": [
    "## Spooled=sqrt( ((n1−1)s1^2 + (n2−1)s2^2)/(n1+n2−2) )\n",
    "\n",
    "n1 = size of group1\n",
    "n2 = size of group 2\n",
    "s1 = standard deviation of group 1\n",
    "s2 = standard deviation of group 2"
   ]
  },
  {
   "cell_type": "code",
   "execution_count": 79,
   "metadata": {},
   "outputs": [
    {
     "name": "stdout",
     "output_type": "stream",
     "text": [
      "8.642880017679293 9.772410142846033\n",
      "degree of Freedom  39\n"
     ]
    }
   ],
   "source": [
    "CurrentStd = np.std(data['Current'])\n",
    "NewStd = np.std(data['New'])\n",
    "n1 =n2 = data['Current'].count()\n",
    "print(CurrentStd, NewStd)\n",
    "\n",
    "df1 = n1-1;\n",
    "df2 = df1;\n",
    "\n",
    "print(\"degree of Freedom \",df1)"
   ]
  },
  {
   "cell_type": "code",
   "execution_count": 92,
   "metadata": {},
   "outputs": [
    {
     "name": "stdout",
     "output_type": "stream",
     "text": [
      "Pooled standard deviation 9.224949186851925\n"
     ]
    }
   ],
   "source": [
    "spooled = np.sqrt( ( df1 * np.square(CurrentStd) + df2 * np.square(NewStd) )/ (n1 + n2 -2 ) )\n",
    "\n",
    "print(\"Pooled standard deviation {}\".format(spooled))"
   ]
  },
  {
   "cell_type": "markdown",
   "metadata": {},
   "source": [
    "## Calculate Sample power"
   ]
  },
  {
   "cell_type": "code",
   "execution_count": 104,
   "metadata": {},
   "outputs": [
    {
     "name": "stdout",
     "output_type": "stream",
     "text": [
      "0.3008146650775173\n"
     ]
    }
   ],
   "source": [
    "delta = (np.mean(data['Current']) - np.mean(data['New']))/spooled\n",
    "print(delta)"
   ]
  },
  {
   "cell_type": "code",
   "execution_count": 94,
   "metadata": {},
   "outputs": [],
   "source": [
    "from statsmodels.stats.power import ttest_power"
   ]
  },
  {
   "cell_type": "code",
   "execution_count": 107,
   "metadata": {},
   "outputs": [
    {
     "name": "stdout",
     "output_type": "stream",
     "text": [
      "0.45851335474442073\n"
     ]
    }
   ],
   "source": [
    "print(ttest_power(delta,nobs=40,alpha=0.05,alternative=\"two-sided\"))"
   ]
  },
  {
   "cell_type": "markdown",
   "metadata": {},
   "source": [
    "####Above statement means that there is 45% chances to reject the Null Hypotheis (Null hypothesis being false)"
   ]
  },
  {
   "cell_type": "markdown",
   "metadata": {},
   "source": [
    "## Calculate Standard Error"
   ]
  },
  {
   "cell_type": "code",
   "execution_count": 128,
   "metadata": {},
   "outputs": [
    {
     "name": "stdout",
     "output_type": "stream",
     "text": [
      "1.3665593199711457\n",
      "1.5451537140362444\n"
     ]
    }
   ],
   "source": [
    "SDerror_current = np.std(data['Current'])/np.sqrt(n1)\n",
    "print(SDerror_current)\n",
    "\n",
    "SDerror_new = np.std(data['New'])/np.sqrt(n1)\n",
    "print(SDerror_new)"
   ]
  },
  {
   "cell_type": "markdown",
   "metadata": {},
   "source": [
    "# Now lets perfrom Hypothesis Testing"
   ]
  },
  {
   "cell_type": "markdown",
   "metadata": {},
   "source": [
    "## 1 ) State Null and Alternate Hypothesis \n",
    "- Null Hypotheis , Par’s market share could be same with the introduction of a cut -resistant  or H0:μ1=μ2\n",
    "- Alternate Hypotheis,  Par’s market share could be increased with the introduction of a cut -resistant or H1:μ1!=μ2"
   ]
  },
  {
   "cell_type": "markdown",
   "metadata": {},
   "source": [
    "## 2) Set Alpha\n",
    "α = 0.05  (considering as it is standard)"
   ]
  },
  {
   "cell_type": "markdown",
   "metadata": {},
   "source": [
    "## 3) State Decision rule"
   ]
  },
  {
   "cell_type": "code",
   "execution_count": 122,
   "metadata": {},
   "outputs": [
    {
     "name": "stdout",
     "output_type": "stream",
     "text": [
      "78\n"
     ]
    }
   ],
   "source": [
    "DegreeOfFreedom = (n1-1)+(n2-1)\n",
    "print(DegreeOfFreedom)"
   ]
  },
  {
   "cell_type": "code",
   "execution_count": 123,
   "metadata": {},
   "outputs": [
    {
     "name": "stdout",
     "output_type": "stream",
     "text": [
      "Critical Value is 1.9908 as per the T-table\n"
     ]
    }
   ],
   "source": [
    "# Calculate the critical value for DegreeOfFreedom=78 and alpha = 0.05\n",
    "#http://www.ttable.org/student-t-value-calculator.html\n",
    "print(\"Critical Value is 1.9908 as per the T-table\")"
   ]
  },
  {
   "cell_type": "markdown",
   "metadata": {},
   "source": [
    "### So we expect  t-value to be between  -1.9908 to +1.9908 , otherwise we reject the null hypothesis"
   ]
  },
  {
   "cell_type": "markdown",
   "metadata": {},
   "source": [
    "## 4) Calculate a test statistic"
   ]
  },
  {
   "cell_type": "markdown",
   "metadata": {},
   "source": [
    "Let us use T-Test (as Normality & Variance criteria is true per shapiro & levene test)"
   ]
  },
  {
   "cell_type": "code",
   "execution_count": 124,
   "metadata": {},
   "outputs": [
    {
     "data": {
      "text/plain": [
       "Ttest_indResult(statistic=1.3283615935245678, pvalue=0.18793228491854663)"
      ]
     },
     "execution_count": 124,
     "metadata": {},
     "output_type": "execute_result"
    }
   ],
   "source": [
    "ttest_ind(data['Current'], data['New'])"
   ]
  },
  {
   "cell_type": "code",
   "execution_count": 125,
   "metadata": {},
   "outputs": [
    {
     "name": "stdout",
     "output_type": "stream",
     "text": [
      "1.3283615935245678 0.18793228491854663\n"
     ]
    }
   ],
   "source": [
    "t, p = ttest_ind(data['Current'], data['New'])\n",
    "print(t,p)"
   ]
  },
  {
   "cell_type": "markdown",
   "metadata": {},
   "source": [
    "### p-value is 0.187 \n",
    "Reject Null Hypothesis if p-value is <0.05\n",
    "\n",
    "Do not reject Null Hypothesis if p-value is >0.05"
   ]
  },
  {
   "cell_type": "markdown",
   "metadata": {},
   "source": [
    "## Conclusion\n",
    "\n",
    "- so it was decided from #3 that we accept the null hupothesis if t-value falls between -1.9908 to +1.9908, and as calucated in #4 the t-value is 1.32 which is less than 1.9908\n",
    "- Also note that p-value ( 0.188 ) is greather that alpha ( 0.05 ) so we do not reject Null Hypothesis\n",
    "\n",
    "## so we do not reject the null Hypothesis\n",
    "## So recommendation for Par Inc is not to release the new cut-resistant golf-balls as it may not result to higher market share"
   ]
  },
  {
   "cell_type": "code",
   "execution_count": null,
   "metadata": {},
   "outputs": [],
   "source": []
  },
  {
   "cell_type": "markdown",
   "metadata": {},
   "source": [
    "# Summary\n",
    "\n",
    "- From descriptive statistics we saw that the Mean,Standard Deviation, max etc are mostly close for both Current and New values \n",
    "- Then we used Shapiro and levene tests to check Normality and Variance\n",
    "> -  With Shapiro test we found p-value as 0.378 for Current golf, Normality criteria holds true if p-value is > 0.05 (level of significance)\n",
    "> - With Shapiro test we found p-value as 0.306 for New golf, Normality criteria holds true if p-value is > 0.05 (level of significance)\n",
    "> - With Levene test we found p-value as 0.614 , for Variance criteria holds true if p-value is > 0.05 (level of significance)\n",
    "- Then calculated spooled standard deviation and sample power\n",
    "> - spooled standard deviation calculated as 9.224\n",
    "> - sample power calcuated to ( delta/spooled standard deviation) -> 0.458\n",
    "> - Above statement means that there is 45% chance to reject the Null Hypotheis (Null hypothesis being false)\n",
    "- Then performed hypothesis testinng using idenpendent t-test\n",
    "> - From the testing we found that p-value was > 0.05 and t-value was falling within Confidence Interval(Acceptance Region)\n",
    "> - form the result we concluded that there was NO strong evidence to reject the null hypothesis\n",
    "- ## so recommendation to Par Inc is that not to release the new cut-resistant golf-balls as it may not result to higher market share"
   ]
  }
 ],
 "metadata": {
  "kernelspec": {
   "display_name": "Python 3",
   "language": "python",
   "name": "python3"
  },
  "language_info": {
   "codemirror_mode": {
    "name": "ipython",
    "version": 3
   },
   "file_extension": ".py",
   "mimetype": "text/x-python",
   "name": "python",
   "nbconvert_exporter": "python",
   "pygments_lexer": "ipython3",
   "version": "3.6.4"
  }
 },
 "nbformat": 4,
 "nbformat_minor": 2
}
